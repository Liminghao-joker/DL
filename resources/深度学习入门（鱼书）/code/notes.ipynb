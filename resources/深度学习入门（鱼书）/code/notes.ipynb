{
 "cells": [
  {
   "metadata": {},
   "cell_type": "markdown",
   "source": "# 第四章 学习算法的实现",
   "id": "3778381ae226727a"
  },
  {
   "metadata": {},
   "cell_type": "markdown",
   "source": [
    "神经网络学习的四大步骤：\n",
    "\n",
    "*前提* :\n",
    "    神经网络存在合适的偏置和权重，通过调整权重和偏置以便拟合训练数据的过程称为“学习”。\n",
    "\n",
    "神经网络的学习可以分为以下 4 个步骤："
   ],
   "id": "5d3abdb880cb7a82"
  },
  {
   "metadata": {},
   "cell_type": "code",
   "outputs": [],
   "execution_count": null,
   "source": "",
   "id": "655b4b6387f5ff00"
  }
 ],
 "metadata": {
  "kernelspec": {
   "display_name": "Python 3",
   "language": "python",
   "name": "python3"
  },
  "language_info": {
   "codemirror_mode": {
    "name": "ipython",
    "version": 2
   },
   "file_extension": ".py",
   "mimetype": "text/x-python",
   "name": "python",
   "nbconvert_exporter": "python",
   "pygments_lexer": "ipython2",
   "version": "2.7.6"
  }
 },
 "nbformat": 4,
 "nbformat_minor": 5
}
