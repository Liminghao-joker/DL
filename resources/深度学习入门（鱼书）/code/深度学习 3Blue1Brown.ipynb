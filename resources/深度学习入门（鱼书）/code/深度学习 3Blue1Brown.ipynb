{
 "cells": [
  {
   "metadata": {},
   "cell_type": "markdown",
   "source": "# 深度学习",
   "id": "9c007e7e4a4001d0"
  },
  {
   "metadata": {},
   "cell_type": "markdown",
   "source": "## 神经网络的结构",
   "id": "db5d8a9185bbe51f"
  },
  {
   "metadata": {},
   "cell_type": "markdown",
   "source": [
    "\n",
    "什么是神经网络？你可以把它理解成一个*函数*。\n",
    "\n",
    "(以 MNIST 手写数字为例)\n",
    "\n",
    "Neural network function<br>\n",
    "input: 784 numbers 28*28个像素 <br>\n",
    "output: 10 numbers 识别出 0~9 的10个数字 <br>\n",
    "parameters: weights/biases 权重/偏置 <br>\n",
    "\n"
   ],
   "id": "50b358656af06a7b"
  },
  {
   "metadata": {},
   "cell_type": "markdown",
   "source": "## 神经网络的运作模式",
   "id": "327f0ea6ca85aaa3"
  },
  {
   "metadata": {},
   "cell_type": "markdown",
   "source": "我们需要一个*误差函数*，来评估*预测数据的好坏*。",
   "id": "ffd9b97224b5eb80"
  },
  {
   "metadata": {},
   "cell_type": "markdown",
   "source": [
    "*Cost/Loss function*\n",
    "\n",
    "input: 13,002 weights/biases\n",
    "\n",
    "output: 1 number(the cost)\n",
    "\n",
    "parameters: many many,many training examples"
   ],
   "id": "468969841d9be9aa"
  },
  {
   "metadata": {},
   "cell_type": "markdown",
   "source": [
    "事实上，我们知道代价函数/误差函数是不够的，\n",
    "\n",
    "因为它只是向我们指示了预测数据的“好坏”，\n",
    "\n",
    "却没有告诉应该如何<u>优化</u>（即调整 *权重* 和 *偏置* 的值），使代价函数的结果改变得更快。"
   ],
   "id": "c600ccf2dbab3851"
  },
  {
   "metadata": {},
   "cell_type": "markdown",
   "source": [
    "因此，我们再往上一层，引出 *代价函数的梯度* 的概念。\n",
    "\n",
    "首先，我们先来理解 *梯度*。\n",
    "\n",
    "从一元函数出发(single input - single output)：<br>\n",
    "如何确定它的最小值呢？<br>我们可以这样做。先在函数图像上随意地选取一个值，求出该点的斜率(即该点的导数)。当沿着某一方向，斜率为正（即函数值增大的方向），我们沿着它的 *反方向* 走一小步。\n",
    "在新的一点，我们继续判断斜率的正负，以此循环，可以找到最小值。\n",
    "但通常情况下，这只是*局部*的，而不是*全局*的。\n",
    "\n",
    "自然地延申到二元函数（即XY平面），回答：在空间上，应该往哪个方向走，取得函数最小值？\n"
   ],
   "id": "f8066b056cd1c3b9"
  },
  {
   "metadata": {},
   "cell_type": "markdown",
   "source": "",
   "id": "91bfb4cc8f5f3402"
  }
 ],
 "metadata": {
  "kernelspec": {
   "display_name": "Python 3",
   "language": "python",
   "name": "python3"
  },
  "language_info": {
   "codemirror_mode": {
    "name": "ipython",
    "version": 2
   },
   "file_extension": ".py",
   "mimetype": "text/x-python",
   "name": "python",
   "nbconvert_exporter": "python",
   "pygments_lexer": "ipython2",
   "version": "2.7.6"
  }
 },
 "nbformat": 4,
 "nbformat_minor": 5
}
